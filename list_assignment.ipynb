{
 "cells": [
  {
   "cell_type": "markdown",
   "id": "8c941a9f",
   "metadata": {},
   "source": [
    "#### Question 1: Basic List Operations"
   ]
  },
  {
   "cell_type": "markdown",
   "id": "b6114e0c",
   "metadata": {},
   "source": [
    "a) Create a list named `fruits` containing the following items: \"apple\", \"banana\", \"orange\", \"grape\", \"kiwi\"."
   ]
  },
  {
   "cell_type": "code",
   "execution_count": 1,
   "id": "0e109c85",
   "metadata": {},
   "outputs": [
    {
     "name": "stdout",
     "output_type": "stream",
     "text": [
      "['apple', 'banana', 'orange', 'grape', 'kiwi']\n",
      "<class 'list'>\n"
     ]
    }
   ],
   "source": [
    "fruits = [\"apple\", \"banana\", \"orange\", \"grape\", \"kiwi\"]   # Creating List\n",
    "print (fruits)\n",
    "print (type(fruits))"
   ]
  },
  {
   "cell_type": "markdown",
   "id": "efc5c109",
   "metadata": {},
   "source": [
    "b) Add \"pear\" to the end of the list."
   ]
  },
  {
   "cell_type": "code",
   "execution_count": 2,
   "id": "696d3233",
   "metadata": {},
   "outputs": [
    {
     "name": "stdout",
     "output_type": "stream",
     "text": [
      "['apple', 'banana', 'orange', 'grape', 'kiwi', 'pear']\n"
     ]
    }
   ],
   "source": [
    "fruits.append(\"pear\")  # Add \"pear\" in list\n",
    "print (fruits)"
   ]
  },
  {
   "cell_type": "markdown",
   "id": "0daa91c5",
   "metadata": {},
   "source": [
    "c) Insert \"mango\" at the second position in the list."
   ]
  },
  {
   "cell_type": "code",
   "execution_count": 3,
   "id": "00f9ce38",
   "metadata": {},
   "outputs": [
    {
     "name": "stdout",
     "output_type": "stream",
     "text": [
      "['apple', 'orange', 'banana', 'orange', 'grape', 'kiwi', 'pear']\n"
     ]
    }
   ],
   "source": [
    "fruits.insert(1, \"orange\")   # insert \"orange\" in list in 2nd position\n",
    "print (fruits)"
   ]
  },
  {
   "cell_type": "markdown",
   "id": "072561b3",
   "metadata": {},
   "source": [
    "d) Remove \"orange\" from the list."
   ]
  },
  {
   "cell_type": "code",
   "execution_count": 4,
   "id": "83435168",
   "metadata": {},
   "outputs": [
    {
     "name": "stdout",
     "output_type": "stream",
     "text": [
      "['apple', 'banana', 'orange', 'grape', 'kiwi', 'pear']\n"
     ]
    }
   ],
   "source": [
    "fruits.remove(\"orange\")    # remove \"orange\" in the list\n",
    "print (fruits)"
   ]
  },
  {
   "cell_type": "markdown",
   "id": "b8bc5fd7",
   "metadata": {},
   "source": [
    "#### Question 2: Slicing and Indexing"
   ]
  },
  {
   "cell_type": "markdown",
   "id": "402b6257",
   "metadata": {},
   "source": [
    "a) Create a list named `numbers` containing the integers from 0 to 9."
   ]
  },
  {
   "cell_type": "code",
   "execution_count": 5,
   "id": "7fec0112",
   "metadata": {},
   "outputs": [
    {
     "name": "stdout",
     "output_type": "stream",
     "text": [
      "[0, 1, 2, 3, 4, 5, 6, 7, 8]\n"
     ]
    }
   ],
   "source": [
    "numbers = list(range(0,9))        # creating list with range 0 to 9\n",
    "print (numbers)"
   ]
  },
  {
   "cell_type": "markdown",
   "id": "821cefe0",
   "metadata": {},
   "source": [
    "b) Print the element at index 3."
   ]
  },
  {
   "cell_type": "code",
   "execution_count": 6,
   "id": "50abe31c",
   "metadata": {},
   "outputs": [
    {
     "name": "stdout",
     "output_type": "stream",
     "text": [
      "3\n"
     ]
    }
   ],
   "source": [
    "numbers = list(range(0,9))      # print element at index 3\n",
    "element_at_index_3 = numbers[3]\n",
    "print (element_at_index_3)"
   ]
  },
  {
   "cell_type": "markdown",
   "id": "a7399dbf",
   "metadata": {},
   "source": [
    "c) Print a sublist containing the elements from index 2 to 6 (inclusive)."
   ]
  },
  {
   "cell_type": "code",
   "execution_count": 7,
   "id": "44fdd8b1",
   "metadata": {},
   "outputs": [
    {
     "name": "stdout",
     "output_type": "stream",
     "text": [
      "[2, 3, 4]\n"
     ]
    }
   ],
   "source": [
    "elements_from_index_2_to_6 = numbers[2:5]      # print elements from index 2 to 6\n",
    "print (elements_from_index_2_to_6)"
   ]
  },
  {
   "cell_type": "markdown",
   "id": "adaa0b48",
   "metadata": {},
   "source": [
    "d) Print the last three elements using negative indexing."
   ]
  },
  {
   "cell_type": "code",
   "execution_count": 8,
   "id": "d39adbb9",
   "metadata": {},
   "outputs": [
    {
     "name": "stdout",
     "output_type": "stream",
     "text": [
      "[6, 7, 8]\n"
     ]
    }
   ],
   "source": [
    "numbers = list(range(0,9))           # last three element using negative indexing\n",
    "last_three_elements_negative_indexing = numbers[-3:]\n",
    "print (last_three_elements_negative_indexing)"
   ]
  },
  {
   "cell_type": "markdown",
   "id": "b15deb45",
   "metadata": {},
   "source": [
    "#### Question 3: List Comprehension"
   ]
  },
  {
   "cell_type": "markdown",
   "id": "1926f0e8",
   "metadata": {},
   "source": [
    "a) Create a list named `squares` using a list comprehension that contains the squares of numbers from 1 to 10."
   ]
  },
  {
   "cell_type": "code",
   "execution_count": 9,
   "id": "4e3429c2",
   "metadata": {},
   "outputs": [
    {
     "name": "stdout",
     "output_type": "stream",
     "text": [
      "[1, 4, 9, 16, 25, 36, 49, 64, 81, 100]\n"
     ]
    }
   ],
   "source": [
    "squares = list(range(1,11))     #`squares` using a list comprehension\n",
    "\n",
    "for i in range(len(squares)):\n",
    "    squares[i] = squares[i] ** 2\n",
    "print (squares)"
   ]
  },
  {
   "cell_type": "code",
   "execution_count": 22,
   "id": "f0da31ba",
   "metadata": {},
   "outputs": [
    {
     "name": "stdout",
     "output_type": "stream",
     "text": [
      "[1, 4, 9, 16, 25, 36, 49, 64, 81, 100]\n"
     ]
    }
   ],
   "source": [
    "squares = [x **2 for x in range(1,11)]    # `squares` using a list comprehension\n",
    "print (squares)"
   ]
  },
  {
   "cell_type": "markdown",
   "id": "67f870fe",
   "metadata": {},
   "source": [
    "b) Create a new list named `even_squares` using a list comprehension that contains the squares of even numbers from the `squares` list."
   ]
  },
  {
   "cell_type": "code",
   "execution_count": 23,
   "id": "9c4ced1e",
   "metadata": {},
   "outputs": [
    {
     "name": "stdout",
     "output_type": "stream",
     "text": [
      "[4, 16, 36, 64, 100]\n"
     ]
    }
   ],
   "source": [
    "even_squares = [x ** 2 for x in range(1,11) if x % 2 == 0]    #`even_squares` using a list comprehension\n",
    "print (even_squares)"
   ]
  },
  {
   "cell_type": "markdown",
   "id": "eba3a9dd",
   "metadata": {},
   "source": [
    "#### Question 4: List Manipulation"
   ]
  },
  {
   "cell_type": "markdown",
   "id": "d0596582",
   "metadata": {},
   "source": [
    "a) Create a list named `colors` containing the following items: \"red\", \"green\", \"blue\", \"yellow\", \"purple\"."
   ]
  },
  {
   "cell_type": "code",
   "execution_count": 12,
   "id": "87d27a2c",
   "metadata": {},
   "outputs": [
    {
     "name": "stdout",
     "output_type": "stream",
     "text": [
      "['red', 'green', 'blue', 'yellow', 'purple']\n"
     ]
    }
   ],
   "source": [
    "colors = [\"red\", \"green\", \"blue\", \"yellow\", \"purple\"]\n",
    "print (colors)"
   ]
  },
  {
   "cell_type": "markdown",
   "id": "7e31ad8a",
   "metadata": {},
   "source": [
    "b) Swap the first and last elements of the list."
   ]
  },
  {
   "cell_type": "code",
   "execution_count": 13,
   "id": "3b2f6531",
   "metadata": {},
   "outputs": [
    {
     "name": "stdout",
     "output_type": "stream",
     "text": [
      "['purple', 'green', 'blue', 'yellow', 'red']\n"
     ]
    }
   ],
   "source": [
    "colors[0], colors[-1] = colors[-1], colors[0]       #Swap the first and last elements\n",
    "print (colors)"
   ]
  },
  {
   "cell_type": "markdown",
   "id": "3b923ecd",
   "metadata": {},
   "source": [
    "c) Reverse the order of the list."
   ]
  },
  {
   "cell_type": "code",
   "execution_count": 14,
   "id": "14d62b3e",
   "metadata": {},
   "outputs": [
    {
     "name": "stdout",
     "output_type": "stream",
     "text": [
      "['purple', 'yellow', 'blue', 'green', 'red']\n"
     ]
    }
   ],
   "source": [
    "colors = [\"red\", \"green\", \"blue\", \"yellow\", \"purple\"]\n",
    "colors.reverse()       #Reverse Method\n",
    "print (colors)"
   ]
  },
  {
   "cell_type": "markdown",
   "id": "097618ea",
   "metadata": {},
   "source": [
    "d) Remove the second and third elements from the list."
   ]
  },
  {
   "cell_type": "code",
   "execution_count": 15,
   "id": "5672c6be",
   "metadata": {},
   "outputs": [
    {
     "name": "stdout",
     "output_type": "stream",
     "text": [
      "['purple', 'green', 'red']\n"
     ]
    }
   ],
   "source": [
    "colors.remove(\"blue\")\n",
    "colors.remove(\"yellow\")\n",
    "print(colors)"
   ]
  },
  {
   "cell_type": "markdown",
   "id": "8ef37179",
   "metadata": {},
   "source": [
    "#### Question 5: Advanced Slicing"
   ]
  },
  {
   "cell_type": "markdown",
   "id": "fc7d7888",
   "metadata": {},
   "source": [
    "a) Create a list named `letters` containing the letters from 'a' to 'j'."
   ]
  },
  {
   "cell_type": "code",
   "execution_count": 16,
   "id": "e22ccc3c",
   "metadata": {},
   "outputs": [
    {
     "name": "stdout",
     "output_type": "stream",
     "text": [
      "['a', 'b', 'c', 'd', 'e', 'f', 'g', 'h', 'i', 'j']\n"
     ]
    }
   ],
   "source": [
    "letters = [x for x in \"abcdefghij\"]\n",
    "print (letters)"
   ]
  },
  {
   "cell_type": "markdown",
   "id": "6e3eaf9e",
   "metadata": {},
   "source": [
    "b) Using slicing, create a new list `first_half` containing the first half of the `letters` list."
   ]
  },
  {
   "cell_type": "code",
   "execution_count": 17,
   "id": "381bf8f3",
   "metadata": {},
   "outputs": [
    {
     "name": "stdout",
     "output_type": "stream",
     "text": [
      "['a', 'b', 'c', 'd', 'e', 'f', 'g', 'h', 'i', 'j']\n",
      "['a', 'b', 'c', 'd', 'e']\n"
     ]
    }
   ],
   "source": [
    "letters = [x for x in \"abcdefghij\"]\n",
    "first_half = letters[:len(letters)//2]\n",
    "print (letters)\n",
    "print (first_half)"
   ]
  },
  {
   "cell_type": "markdown",
   "id": "d5f360f9",
   "metadata": {},
   "source": [
    "c) Using slicing, create a new list `last_three` containing the last three elements of the `letters` list."
   ]
  },
  {
   "cell_type": "code",
   "execution_count": 18,
   "id": "e51d1390",
   "metadata": {},
   "outputs": [
    {
     "name": "stdout",
     "output_type": "stream",
     "text": [
      "['c', 'd', 'e']\n"
     ]
    }
   ],
   "source": [
    "last_three = first_half[-3:]\n",
    "print (last_three)"
   ]
  },
  {
   "cell_type": "markdown",
   "id": "d77efcbd",
   "metadata": {},
   "source": [
    "#### Question 6: Nested Lists"
   ]
  },
  {
   "cell_type": "markdown",
   "id": "1801c438",
   "metadata": {},
   "source": [
    "a) Create a nested list named `matrix` with the following rows:\n",
    "   - [1, 2, 3]\n",
    "   - [4, 5, 6]\n",
    "   - [7, 8, 9]\n"
   ]
  },
  {
   "cell_type": "code",
   "execution_count": 25,
   "id": "4a451780",
   "metadata": {},
   "outputs": [
    {
     "name": "stdout",
     "output_type": "stream",
     "text": [
      "[[1, 2, 3], [4, 5, 6], [7, 8, 9]]\n"
     ]
    }
   ],
   "source": [
    "matrix = [[1,2,3],[4,5,6],[7,8,9]]      # nested list\n",
    "print (matrix)"
   ]
  },
  {
   "cell_type": "markdown",
   "id": "e02f0564",
   "metadata": {},
   "source": [
    "\n",
    "b) Print the element in the second row and third column.\n"
   ]
  },
  {
   "cell_type": "code",
   "execution_count": 26,
   "id": "e116fe43",
   "metadata": {},
   "outputs": [
    {
     "name": "stdout",
     "output_type": "stream",
     "text": [
      "6\n"
     ]
    }
   ],
   "source": [
    "matrix = [[1,2,3],[4,5,6],[7,8,9]]      # nested list\n",
    "element = (matrix[1][2])    #element in the second row and third column.\n",
    "\n",
    "print (element)"
   ]
  },
  {
   "cell_type": "markdown",
   "id": "662b01f8",
   "metadata": {},
   "source": [
    "c) Use nested indexing to change the value at the second row and first column to 0."
   ]
  },
  {
   "cell_type": "code",
   "execution_count": 1,
   "id": "2921dfca",
   "metadata": {},
   "outputs": [
    {
     "name": "stdout",
     "output_type": "stream",
     "text": [
      "[[1, 2, 3], [0, 5, 6], [7, 8, 9]]\n"
     ]
    }
   ],
   "source": [
    "matrix = [[1,2,3],[4,5,6],[7,8,9]]      # nested list\n",
    "matrix[1][0] = 0    #change the value at the second row and first column to 0.\n",
    "\n",
    "print (matrix)"
   ]
  }
 ],
 "metadata": {
  "kernelspec": {
   "display_name": "Python 3 (ipykernel)",
   "language": "python",
   "name": "python3"
  },
  "language_info": {
   "codemirror_mode": {
    "name": "ipython",
    "version": 3
   },
   "file_extension": ".py",
   "mimetype": "text/x-python",
   "name": "python",
   "nbconvert_exporter": "python",
   "pygments_lexer": "ipython3",
   "version": "3.11.3"
  }
 },
 "nbformat": 4,
 "nbformat_minor": 5
}
