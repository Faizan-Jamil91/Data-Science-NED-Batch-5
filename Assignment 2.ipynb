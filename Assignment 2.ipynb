{
 "cells": [
  {
   "cell_type": "code",
   "execution_count": 2,
   "id": "efa06ee0",
   "metadata": {},
   "outputs": [
    {
     "name": "stdout",
     "output_type": "stream",
     "text": [
      "My name is Faizan Jamil, I am 30 and i live in House # C-47 Block N North Nazimabad, Karachi, Pakistan\n"
     ]
    }
   ],
   "source": [
    "# Assignment # 1\n",
    "\n",
    "name = \" Faizan Jamil\"\n",
    "age = \"30\"\n",
    "country = \"House # C-47 Block N North Nazimabad, Karachi, Pakistan\"\n",
    "print (\"My name is\" + name + \", I am \" +age  + \" and i live in \" +country)"
   ]
  },
  {
   "cell_type": "code",
   "execution_count": 43,
   "id": "98b7b21f",
   "metadata": {},
   "outputs": [
    {
     "name": "stdout",
     "output_type": "stream",
     "text": [
      "768000\n",
      "I bought 12 Laptops at 64000 for a total of $ 768000\n"
     ]
    }
   ],
   "source": [
    "#Assignment # 2\n",
    "\n",
    "item = \"Laptop\"\n",
    "price = 64000\n",
    "quantity = 12\n",
    "\n",
    "total_cost = price * quantity\n",
    "print (total_cost)\n",
    "\n",
    "comp_text = \"I bought {} {}s at {} for a total of $ {}\" .format(quantity ,item, price , total_cost)\n",
    "print (comp_text)"
   ]
  },
  {
   "cell_type": "code",
   "execution_count": 44,
   "id": "b6d95627",
   "metadata": {},
   "outputs": [
    {
     "name": "stdout",
     "output_type": "stream",
     "text": [
      "the temperure in Karachi is 28 °C.\n"
     ]
    }
   ],
   "source": [
    "#Assignment # 3\n",
    "\n",
    "city = \"Karachi\"\n",
    "temperature = 28\n",
    "\n",
    "temp_text = f\"the temperure in {city} is {temperature} °C.\"\n",
    "print (temp_text)\n"
   ]
  },
  {
   "cell_type": "code",
   "execution_count": 49,
   "id": "7b5467a2",
   "metadata": {},
   "outputs": [
    {
     "name": "stdout",
     "output_type": "stream",
     "text": [
      "My name is Faizan Jamil. i am 31 year old\n"
     ]
    }
   ],
   "source": [
    "#Assignment # 4\n",
    "\n",
    "first_name = \"Faizan\"\n",
    "last_name = \"Jamil\"\n",
    "birth_year = 1992\n",
    "current_year = 2023\n",
    "age = current_year - birth_year\n",
    "\n",
    "bio_data = \"My name is %s %s. i am %d year old\"%(first_name,last_name,age)\n",
    "\n",
    "print (bio_data)"
   ]
  },
  {
   "cell_type": "code",
   "execution_count": 10,
   "id": "bd9d5b98",
   "metadata": {},
   "outputs": [
    {
     "name": "stdout",
     "output_type": "stream",
     "text": [
      "Product name : Notebook Original price : 100000 Discount : 10 Discounted Price : 90000.0\n",
      "Product name : Notebook Original price : 100000 Discount : 10 Discounted Price : 90000.0\n",
      "Product name : Notebook Original price : 100000 Discount : 10 Discounted Price : 90000.0\n",
      "Product name : Notebook Original price : 100000 Discount : 10 Discounted Price : 90000.0 \n",
      "Product name : Notebook Original price : 100000 Discount : 10 Discounted Price : 90000.0\n"
     ]
    }
   ],
   "source": [
    "#Assignment # 5\n",
    "\n",
    "product = \"Notebook\"\n",
    "discount = 10\n",
    "original_price = 100000\n",
    "discounted_price = original_price * (1-discount/100)\n",
    "\n",
    "print (\"Product name :\", product , \"Original price :\"  \\\n",
    ",original_price , \"Discount :\" ,discount ,\"Discounted Price :\" ,discounted_price)\n",
    "\n",
    "print (\"Product name : \" + product + \" Original price : \"  \\\n",
    "+str(original_price) + \" Discount : \" + str(discount) +\" Discounted Price : \" +str(discounted_price))\n",
    "\n",
    "F_Format = \"Product name : {} Original price : {} Discount : \\\n",
    "{} Discounted Price : {}\".format(product, original_price, discount, discounted_price)\n",
    "print (F_Format)\n",
    "\n",
    "F_F = f\"Product name : {product} Original price : {original_price} Discount : \\\n",
    "{discount} Discounted Price : {discounted_price} \"\n",
    "print (F_F)\n",
    "\n",
    "F_per = \"Product name : %s Original price : %d Discount : \\\n",
    "%d Discounted Price : %0.1f\" %(product, original_price, discount, discounted_price)\n",
    "print (F_per)\n"
   ]
  }
 ],
 "metadata": {
  "kernelspec": {
   "display_name": "Python 3 (ipykernel)",
   "language": "python",
   "name": "python3"
  },
  "language_info": {
   "codemirror_mode": {
    "name": "ipython",
    "version": 3
   },
   "file_extension": ".py",
   "mimetype": "text/x-python",
   "name": "python",
   "nbconvert_exporter": "python",
   "pygments_lexer": "ipython3",
   "version": "3.11.3"
  }
 },
 "nbformat": 4,
 "nbformat_minor": 5
}
